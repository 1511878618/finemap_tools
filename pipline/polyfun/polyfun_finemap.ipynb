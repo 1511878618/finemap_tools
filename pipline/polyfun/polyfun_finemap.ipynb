{
 "cells": [
  {
   "cell_type": "code",
   "execution_count": 63,
   "metadata": {},
   "outputs": [],
   "source": [
    "gwas_file = \"/home/xutingfeng/GIFT/data/GWAS/T1Mapping_Cortex_20240129.csv_firstorder_Median_all_2023_GRCh38_unionKidneys.tsv.gz\""
   ]
  },
  {
   "cell_type": "code",
   "execution_count": 64,
   "metadata": {},
   "outputs": [],
   "source": [
    "save_dir = \"/home/xutingfeng/GIFT/data/analysis/DNAJC16/polyfun\"\n",
    "from pathlib import Path\n",
    "\n",
    "Path(save_dir).mkdir(parents=True, exist_ok=True)"
   ]
  },
  {
   "cell_type": "code",
   "execution_count": 65,
   "metadata": {},
   "outputs": [],
   "source": [
    "# from finemap_tools.reader.gwas import load_GWASFormated_file\n",
    "\n",
    "\n",
    "# topLoci = (1, 15583355, 15583355)  # (chr, start, end)\n",
    "# locus_range = 250  # 100kb\n",
    "# locus_range = locus_range * 1000\n",
    "# locus_range_tuple = (topLoci[0], topLoci[1] - locus_range, topLoci[2] + locus_range)\n",
    "\n",
    "# locus_region = f\"{locus_range_tuple[0]}:{locus_range_tuple[1]}-{locus_range_tuple[2]}\"\n",
    "# print(f\"locus_region: {locus_region}\")"
   ]
  },
  {
   "cell_type": "code",
   "execution_count": 55,
   "metadata": {},
   "outputs": [],
   "source": [
    "default_polyfun_map = {\n",
    "    \"SNP\": \"SNP\",\n",
    "    \"CHR\": \"chrom\",\n",
    "    \"BP\": \"pos\",\n",
    "    \"A1\": \"alt\",  # A1 is the effect allele\n",
    "    \"A2\": \"ref\",  # A2 is the other allele\n",
    "    \"Z\": None,\n",
    "    \"SNPVAR\": None,\n",
    "}\n",
    "\n",
    "\n",
    "def sumstats2polyfun(sumstats, map_dict=None):\n",
    "    sumstats = sumstats.copy()\n",
    "    polyfun_cols = list(default_polyfun_map.keys())\n",
    "    used_polyfun_map_dict = default_polyfun_map.copy()\n",
    "    if map_dict:\n",
    "        used_polyfun_map_dict.update(map_dict)\n",
    "\n",
    "    for col in polyfun_cols:\n",
    "        current_check_col = used_polyfun_map_dict.get(col, None)\n",
    "\n",
    "        if (current_check_col not in sumstats.columns) | (current_check_col is None):\n",
    "            if col == \"Z\":\n",
    "                # assert beta and se in map_dict\n",
    "                assert (\n",
    "                    \"beta\" in used_polyfun_map_dict.keys()\n",
    "                    and \"se\" in used_polyfun_map_dict.keys()\n",
    "                ), \"beta and se should be in\" + str(used_polyfun_map_dict)\n",
    "                sumstats[\"Z\"] = sumstats[map_dict[\"beta\"]].astype(float) / sumstats[\n",
    "                    map_dict[\"se\"]\n",
    "                ].astype(float)\n",
    "                used_polyfun_map_dict[\"Z\"] = \"Z\"\n",
    "            elif col == \"SNPVAR\":\n",
    "                if current_check_col not in sumstats.columns:\n",
    "                    print(f\"SNPVAR not in sumstats, will pass it\")\n",
    "                polyfun_cols.remove(col)\n",
    "            else:\n",
    "                raise ValueError(f\"{current_check_col} not in sumstats\")\n",
    "\n",
    "    rename_dict = {v: k for k, v in used_polyfun_map_dict.items() if v is not None}\n",
    "    sumstats.rename(columns=rename_dict, inplace=True)\n",
    "    return sumstats[polyfun_cols]"
   ]
  },
  {
   "cell_type": "code",
   "execution_count": 77,
   "metadata": {},
   "outputs": [
    {
     "name": "stdout",
     "output_type": "stream",
     "text": [
      "Will load region from file.\n",
      "tabix have a header, so will take the first line as header and remove it.\n"
     ]
    },
    {
     "name": "stderr",
     "output_type": "stream",
     "text": [
      "/home/xutingfeng/github_code/mine/finemap_tools/finemap_tools/reader/reader.py:104: DtypeWarning: Columns (0,1,4,5,6,7) have mixed types. Specify dtype option on import or set low_memory=False.\n",
      "  return pd.read_csv(StringIO(stdout), sep=\"\\t\", header=None)\n"
     ]
    }
   ],
   "source": [
    "from finemap_tools.reader.gwas import load_GWASFormated_file\n",
    "from finemap_tools.utils import add_ID\n",
    "from finemap_tools.snpfilter import filter_pipline\n",
    "\n",
    "# f\"1:14533350-16133356\"\n",
    "sumstats = load_GWASFormated_file(gwas_file, region=f\"1\")  # load"
   ]
  },
  {
   "cell_type": "code",
   "execution_count": 78,
   "metadata": {},
   "outputs": [],
   "source": [
    "# sumstats = load_GWASFormated_file(gwas_file, region=locus_region)  # load\n",
    "sumstats[\"SNP\"] = add_ID(sumstats, [\"chrom\", \"pos\", \"ref\", \"alt\"])  # add rsid\n",
    "# sumstats = filter_pipline(sumstats=sumstats, id_col=\"SNP\")  # filter"
   ]
  },
  {
   "cell_type": "code",
   "execution_count": 79,
   "metadata": {},
   "outputs": [
    {
     "name": "stdout",
     "output_type": "stream",
     "text": [
      "SNPVAR not in sumstats, will pass it\n"
     ]
    },
    {
     "data": {
      "text/html": [
       "<div>\n",
       "<style scoped>\n",
       "    .dataframe tbody tr th:only-of-type {\n",
       "        vertical-align: middle;\n",
       "    }\n",
       "\n",
       "    .dataframe tbody tr th {\n",
       "        vertical-align: top;\n",
       "    }\n",
       "\n",
       "    .dataframe thead th {\n",
       "        text-align: right;\n",
       "    }\n",
       "</style>\n",
       "<table border=\"1\" class=\"dataframe\">\n",
       "  <thead>\n",
       "    <tr style=\"text-align: right;\">\n",
       "      <th></th>\n",
       "      <th>SNP</th>\n",
       "      <th>CHR</th>\n",
       "      <th>BP</th>\n",
       "      <th>A1</th>\n",
       "      <th>A2</th>\n",
       "      <th>Z</th>\n",
       "    </tr>\n",
       "  </thead>\n",
       "  <tbody>\n",
       "    <tr>\n",
       "      <th>1</th>\n",
       "      <td>1:10177:A:AC</td>\n",
       "      <td>1</td>\n",
       "      <td>10177</td>\n",
       "      <td>AC</td>\n",
       "      <td>A</td>\n",
       "      <td>-1.621657</td>\n",
       "    </tr>\n",
       "    <tr>\n",
       "      <th>2</th>\n",
       "      <td>1:10352:T:TA</td>\n",
       "      <td>1</td>\n",
       "      <td>10352</td>\n",
       "      <td>TA</td>\n",
       "      <td>T</td>\n",
       "      <td>0.734889</td>\n",
       "    </tr>\n",
       "    <tr>\n",
       "      <th>3</th>\n",
       "      <td>1:10616:CCGCCGTTGCAAAGGCGCGCCG:C</td>\n",
       "      <td>1</td>\n",
       "      <td>10616</td>\n",
       "      <td>C</td>\n",
       "      <td>CCGCCGTTGCAAAGGCGCGCCG</td>\n",
       "      <td>0.519880</td>\n",
       "    </tr>\n",
       "    <tr>\n",
       "      <th>4</th>\n",
       "      <td>1:11008:C:G</td>\n",
       "      <td>1</td>\n",
       "      <td>11008</td>\n",
       "      <td>G</td>\n",
       "      <td>C</td>\n",
       "      <td>-0.779716</td>\n",
       "    </tr>\n",
       "    <tr>\n",
       "      <th>5</th>\n",
       "      <td>1:11012:C:G</td>\n",
       "      <td>1</td>\n",
       "      <td>11012</td>\n",
       "      <td>G</td>\n",
       "      <td>C</td>\n",
       "      <td>-0.779716</td>\n",
       "    </tr>\n",
       "    <tr>\n",
       "      <th>...</th>\n",
       "      <td>...</td>\n",
       "      <td>...</td>\n",
       "      <td>...</td>\n",
       "      <td>...</td>\n",
       "      <td>...</td>\n",
       "      <td>...</td>\n",
       "    </tr>\n",
       "    <tr>\n",
       "      <th>1539599</th>\n",
       "      <td>1:248945900:T:TA</td>\n",
       "      <td>1</td>\n",
       "      <td>248945900</td>\n",
       "      <td>TA</td>\n",
       "      <td>T</td>\n",
       "      <td>-0.008871</td>\n",
       "    </tr>\n",
       "    <tr>\n",
       "      <th>1539600</th>\n",
       "      <td>1:248946020:A:T</td>\n",
       "      <td>1</td>\n",
       "      <td>248946020</td>\n",
       "      <td>T</td>\n",
       "      <td>A</td>\n",
       "      <td>-0.339775</td>\n",
       "    </tr>\n",
       "    <tr>\n",
       "      <th>1539601</th>\n",
       "      <td>1:248946338:GGT:G</td>\n",
       "      <td>1</td>\n",
       "      <td>248946338</td>\n",
       "      <td>G</td>\n",
       "      <td>GGT</td>\n",
       "      <td>1.832058</td>\n",
       "    </tr>\n",
       "    <tr>\n",
       "      <th>1539602</th>\n",
       "      <td>1:248946340:T:G</td>\n",
       "      <td>1</td>\n",
       "      <td>248946340</td>\n",
       "      <td>G</td>\n",
       "      <td>T</td>\n",
       "      <td>-1.493662</td>\n",
       "    </tr>\n",
       "    <tr>\n",
       "      <th>1539603</th>\n",
       "      <td>1:248946344:AGG:A</td>\n",
       "      <td>1</td>\n",
       "      <td>248946344</td>\n",
       "      <td>A</td>\n",
       "      <td>AGG</td>\n",
       "      <td>0.552727</td>\n",
       "    </tr>\n",
       "  </tbody>\n",
       "</table>\n",
       "<p>1539603 rows × 6 columns</p>\n",
       "</div>"
      ],
      "text/plain": [
       "0                                     SNP CHR         BP  A1  \\\n",
       "1                            1:10177:A:AC   1      10177  AC   \n",
       "2                            1:10352:T:TA   1      10352  TA   \n",
       "3        1:10616:CCGCCGTTGCAAAGGCGCGCCG:C   1      10616   C   \n",
       "4                             1:11008:C:G   1      11008   G   \n",
       "5                             1:11012:C:G   1      11012   G   \n",
       "...                                   ...  ..        ...  ..   \n",
       "1539599                  1:248945900:T:TA   1  248945900  TA   \n",
       "1539600                   1:248946020:A:T   1  248946020   T   \n",
       "1539601                 1:248946338:GGT:G   1  248946338   G   \n",
       "1539602                   1:248946340:T:G   1  248946340   G   \n",
       "1539603                 1:248946344:AGG:A   1  248946344   A   \n",
       "\n",
       "0                            A2         Z  \n",
       "1                             A -1.621657  \n",
       "2                             T  0.734889  \n",
       "3        CCGCCGTTGCAAAGGCGCGCCG  0.519880  \n",
       "4                             C -0.779716  \n",
       "5                             C -0.779716  \n",
       "...                         ...       ...  \n",
       "1539599                       T -0.008871  \n",
       "1539600                       A -0.339775  \n",
       "1539601                     GGT  1.832058  \n",
       "1539602                       T -1.493662  \n",
       "1539603                     AGG  0.552727  \n",
       "\n",
       "[1539603 rows x 6 columns]"
      ]
     },
     "execution_count": 79,
     "metadata": {},
     "output_type": "execute_result"
    }
   ],
   "source": [
    "polyfun_sumstats = sumstats2polyfun(sumstats, map_dict={\"beta\": \"beta\", \"se\": \"sebeta\"})\n",
    "polyfun_sumstats"
   ]
  },
  {
   "cell_type": "code",
   "execution_count": null,
   "metadata": {},
   "outputs": [],
   "source": []
  },
  {
   "cell_type": "code",
   "execution_count": 81,
   "metadata": {},
   "outputs": [],
   "source": [
    "# polyfun_sumstats[polyfun_sumstats.duplicated(subset=[\"SNP\"])]\n",
    "polyfun_sumstats = polyfun_sumstats.drop_duplicates(subset=[\"BP\"])"
   ]
  },
  {
   "cell_type": "code",
   "execution_count": 82,
   "metadata": {},
   "outputs": [],
   "source": [
    "outdir = \"/home/xutingfeng/GIFT/data/analysis/DNAJC16/polyfun\"\n",
    "polyfun_sumstats.to_csv(f\"{outdir}/polyfun_sumstats.tsv\", sep=\"\\t\", index=False)"
   ]
  },
  {
   "cell_type": "code",
   "execution_count": 62,
   "metadata": {},
   "outputs": [],
   "source": [
    "polyfun_sumstats[\"CHR\"] = polyfun_sumstats[\"CHR\"].astype(\"str\")\n",
    "polyfun_sumstats[\"BP\"] = polyfun_sumstats[\"BP\"].astype(\"str\")\n",
    "\n",
    "polyfun_sumstats.to_parquet(f\"{outdir}/polyfun_sumstats.parquet\", index=False)"
   ]
  },
  {
   "cell_type": "code",
   "execution_count": 49,
   "metadata": {},
   "outputs": [],
   "source": [
    "import os\n",
    "\n",
    "bfile_path = \"/mnt/d/桌面/work/GIFT/data/pgen/DNAJC16_GRCh38\"\n",
    "\n",
    "bgen_path = f\"{bfile_path}.bgen\"\n",
    "sample_path = f\"{bfile_path}.sample\"\n",
    "bgi_path = f\"{bfile_path}.bgen.bgi\"\n",
    "\n",
    "tgt_bgen = os.path.join(save_dir, \"data.bgen\")\n",
    "tgt_sample = os.path.join(save_dir, \"data.sample\")\n",
    "tgt_bgi = os.path.join(save_dir, \"data.bgen.bgi\")\n",
    "tgt_z = os.path.join(save_dir, \"data.z\")\n",
    "\n",
    "\n",
    "# for bgen link data\n",
    "try:\n",
    "    os.symlink(bgen_path, tgt_bgen)\n",
    "    os.symlink(sample_path, tgt_sample)\n",
    "    os.symlink(bgi_path, tgt_bgi)\n",
    "except:\n",
    "    pass"
   ]
  },
  {
   "cell_type": "code",
   "execution_count": 2,
   "metadata": {},
   "outputs": [],
   "source": [
    "a = {\"3\": 4}"
   ]
  },
  {
   "cell_type": "code",
   "execution_count": 4,
   "metadata": {},
   "outputs": [
    {
     "ename": "TypeError",
     "evalue": "vars() argument must have __dict__ attribute",
     "output_type": "error",
     "traceback": [
      "\u001b[0;31m---------------------------------------------------------------------------\u001b[0m",
      "\u001b[0;31mTypeError\u001b[0m                                 Traceback (most recent call last)",
      "Cell \u001b[0;32mIn[4], line 1\u001b[0m\n\u001b[0;32m----> 1\u001b[0m \u001b[38;5;28;43mvars\u001b[39;49m\u001b[43m(\u001b[49m\u001b[43ma\u001b[49m\u001b[43m)\u001b[49m\n",
      "\u001b[0;31mTypeError\u001b[0m: vars() argument must have __dict__ attribute"
     ]
    }
   ],
   "source": [
    "vars(a)"
   ]
  },
  {
   "cell_type": "code",
   "execution_count": null,
   "metadata": {},
   "outputs": [],
   "source": []
  }
 ],
 "metadata": {
  "kernelspec": {
   "display_name": "base",
   "language": "python",
   "name": "python3"
  },
  "language_info": {
   "codemirror_mode": {
    "name": "ipython",
    "version": 3
   },
   "file_extension": ".py",
   "mimetype": "text/x-python",
   "name": "python",
   "nbconvert_exporter": "python",
   "pygments_lexer": "ipython3",
   "version": "3.10.13"
  }
 },
 "nbformat": 4,
 "nbformat_minor": 2
}
