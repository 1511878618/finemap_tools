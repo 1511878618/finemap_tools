{
 "cells": [
  {
   "cell_type": "code",
   "execution_count": 1,
   "metadata": {},
   "outputs": [],
   "source": [
    "import pandas as pd"
   ]
  },
  {
   "cell_type": "code",
   "execution_count": 7,
   "metadata": {},
   "outputs": [
    {
     "data": {
      "text/html": [
       "<div>\n",
       "<style scoped>\n",
       "    .dataframe tbody tr th:only-of-type {\n",
       "        vertical-align: middle;\n",
       "    }\n",
       "\n",
       "    .dataframe tbody tr th {\n",
       "        vertical-align: top;\n",
       "    }\n",
       "\n",
       "    .dataframe thead th {\n",
       "        text-align: right;\n",
       "    }\n",
       "</style>\n",
       "<table border=\"1\" class=\"dataframe\">\n",
       "  <thead>\n",
       "    <tr style=\"text-align: right;\">\n",
       "      <th></th>\n",
       "      <th>SNP</th>\n",
       "      <th>CHR</th>\n",
       "      <th>BP</th>\n",
       "      <th>A1</th>\n",
       "      <th>A2</th>\n",
       "      <th>Z</th>\n",
       "      <th>P</th>\n",
       "      <th>PIP</th>\n",
       "      <th>BETA_MEAN</th>\n",
       "      <th>BETA_SD</th>\n",
       "      <th>DISTANCE_FROM_CENTER</th>\n",
       "      <th>CREDIBLE_SET</th>\n",
       "    </tr>\n",
       "  </thead>\n",
       "  <tbody>\n",
       "    <tr>\n",
       "      <th>0</th>\n",
       "      <td>1:15574042:T:C</td>\n",
       "      <td>1</td>\n",
       "      <td>15574042</td>\n",
       "      <td>C</td>\n",
       "      <td>T</td>\n",
       "      <td>12.886300</td>\n",
       "      <td>5.379580e-38</td>\n",
       "      <td>0.072514</td>\n",
       "      <td>8.163240e-03</td>\n",
       "      <td>0.029485</td>\n",
       "      <td>44341</td>\n",
       "      <td>2</td>\n",
       "    </tr>\n",
       "    <tr>\n",
       "      <th>1</th>\n",
       "      <td>1:15563726:C:G</td>\n",
       "      <td>1</td>\n",
       "      <td>15563726</td>\n",
       "      <td>G</td>\n",
       "      <td>C</td>\n",
       "      <td>12.847100</td>\n",
       "      <td>8.926020e-38</td>\n",
       "      <td>0.053900</td>\n",
       "      <td>6.032920e-03</td>\n",
       "      <td>0.025540</td>\n",
       "      <td>54657</td>\n",
       "      <td>2</td>\n",
       "    </tr>\n",
       "    <tr>\n",
       "      <th>2</th>\n",
       "      <td>1:15565920:A:C</td>\n",
       "      <td>1</td>\n",
       "      <td>15565920</td>\n",
       "      <td>C</td>\n",
       "      <td>A</td>\n",
       "      <td>12.830400</td>\n",
       "      <td>1.108180e-37</td>\n",
       "      <td>0.048870</td>\n",
       "      <td>5.458860e-03</td>\n",
       "      <td>0.024340</td>\n",
       "      <td>52463</td>\n",
       "      <td>2</td>\n",
       "    </tr>\n",
       "    <tr>\n",
       "      <th>3</th>\n",
       "      <td>1:15580859:C:T</td>\n",
       "      <td>1</td>\n",
       "      <td>15580859</td>\n",
       "      <td>T</td>\n",
       "      <td>C</td>\n",
       "      <td>12.826500</td>\n",
       "      <td>1.165520e-37</td>\n",
       "      <td>0.043499</td>\n",
       "      <td>4.847040e-03</td>\n",
       "      <td>0.022979</td>\n",
       "      <td>37524</td>\n",
       "      <td>2</td>\n",
       "    </tr>\n",
       "    <tr>\n",
       "      <th>4</th>\n",
       "      <td>1:15584636:G:A</td>\n",
       "      <td>1</td>\n",
       "      <td>15584636</td>\n",
       "      <td>A</td>\n",
       "      <td>G</td>\n",
       "      <td>12.831700</td>\n",
       "      <td>1.089030e-37</td>\n",
       "      <td>0.041218</td>\n",
       "      <td>4.587460e-03</td>\n",
       "      <td>0.022372</td>\n",
       "      <td>33747</td>\n",
       "      <td>2</td>\n",
       "    </tr>\n",
       "    <tr>\n",
       "      <th>...</th>\n",
       "      <td>...</td>\n",
       "      <td>...</td>\n",
       "      <td>...</td>\n",
       "      <td>...</td>\n",
       "      <td>...</td>\n",
       "      <td>...</td>\n",
       "      <td>...</td>\n",
       "      <td>...</td>\n",
       "      <td>...</td>\n",
       "      <td>...</td>\n",
       "      <td>...</td>\n",
       "      <td>...</td>\n",
       "    </tr>\n",
       "    <tr>\n",
       "      <th>3069</th>\n",
       "      <td>1:15730070:C:T</td>\n",
       "      <td>1</td>\n",
       "      <td>15730070</td>\n",
       "      <td>T</td>\n",
       "      <td>C</td>\n",
       "      <td>0.815770</td>\n",
       "      <td>4.146320e-01</td>\n",
       "      <td>0.000245</td>\n",
       "      <td>-5.952860e-09</td>\n",
       "      <td>0.000144</td>\n",
       "      <td>111687</td>\n",
       "      <td>0</td>\n",
       "    </tr>\n",
       "    <tr>\n",
       "      <th>3070</th>\n",
       "      <td>1:15803084:T:C</td>\n",
       "      <td>1</td>\n",
       "      <td>15803084</td>\n",
       "      <td>C</td>\n",
       "      <td>T</td>\n",
       "      <td>1.905870</td>\n",
       "      <td>5.666700e-02</td>\n",
       "      <td>0.000245</td>\n",
       "      <td>5.604770e-09</td>\n",
       "      <td>0.000144</td>\n",
       "      <td>184701</td>\n",
       "      <td>0</td>\n",
       "    </tr>\n",
       "    <tr>\n",
       "      <th>3071</th>\n",
       "      <td>1:15726081:C:T</td>\n",
       "      <td>1</td>\n",
       "      <td>15726081</td>\n",
       "      <td>T</td>\n",
       "      <td>C</td>\n",
       "      <td>-1.399170</td>\n",
       "      <td>1.617610e-01</td>\n",
       "      <td>0.000245</td>\n",
       "      <td>-3.998030e-09</td>\n",
       "      <td>0.000144</td>\n",
       "      <td>107698</td>\n",
       "      <td>0</td>\n",
       "    </tr>\n",
       "    <tr>\n",
       "      <th>3072</th>\n",
       "      <td>1:15514723:G:A</td>\n",
       "      <td>1</td>\n",
       "      <td>15514723</td>\n",
       "      <td>A</td>\n",
       "      <td>G</td>\n",
       "      <td>-0.469871</td>\n",
       "      <td>6.384470e-01</td>\n",
       "      <td>0.000245</td>\n",
       "      <td>2.833850e-09</td>\n",
       "      <td>0.000144</td>\n",
       "      <td>103660</td>\n",
       "      <td>0</td>\n",
       "    </tr>\n",
       "    <tr>\n",
       "      <th>3073</th>\n",
       "      <td>1:15832113:G:A</td>\n",
       "      <td>1</td>\n",
       "      <td>15832113</td>\n",
       "      <td>A</td>\n",
       "      <td>G</td>\n",
       "      <td>-0.693987</td>\n",
       "      <td>4.876900e-01</td>\n",
       "      <td>0.000245</td>\n",
       "      <td>-1.000310e-10</td>\n",
       "      <td>0.000144</td>\n",
       "      <td>213730</td>\n",
       "      <td>0</td>\n",
       "    </tr>\n",
       "  </tbody>\n",
       "</table>\n",
       "<p>3074 rows × 12 columns</p>\n",
       "</div>"
      ],
      "text/plain": [
       "                 SNP  CHR        BP A1 A2          Z             P       PIP  \\\n",
       "0     1:15574042:T:C    1  15574042  C  T  12.886300  5.379580e-38  0.072514   \n",
       "1     1:15563726:C:G    1  15563726  G  C  12.847100  8.926020e-38  0.053900   \n",
       "2     1:15565920:A:C    1  15565920  C  A  12.830400  1.108180e-37  0.048870   \n",
       "3     1:15580859:C:T    1  15580859  T  C  12.826500  1.165520e-37  0.043499   \n",
       "4     1:15584636:G:A    1  15584636  A  G  12.831700  1.089030e-37  0.041218   \n",
       "...              ...  ...       ... .. ..        ...           ...       ...   \n",
       "3069  1:15730070:C:T    1  15730070  T  C   0.815770  4.146320e-01  0.000245   \n",
       "3070  1:15803084:T:C    1  15803084  C  T   1.905870  5.666700e-02  0.000245   \n",
       "3071  1:15726081:C:T    1  15726081  T  C  -1.399170  1.617610e-01  0.000245   \n",
       "3072  1:15514723:G:A    1  15514723  A  G  -0.469871  6.384470e-01  0.000245   \n",
       "3073  1:15832113:G:A    1  15832113  A  G  -0.693987  4.876900e-01  0.000245   \n",
       "\n",
       "         BETA_MEAN   BETA_SD  DISTANCE_FROM_CENTER  CREDIBLE_SET  \n",
       "0     8.163240e-03  0.029485                 44341             2  \n",
       "1     6.032920e-03  0.025540                 54657             2  \n",
       "2     5.458860e-03  0.024340                 52463             2  \n",
       "3     4.847040e-03  0.022979                 37524             2  \n",
       "4     4.587460e-03  0.022372                 33747             2  \n",
       "...            ...       ...                   ...           ...  \n",
       "3069 -5.952860e-09  0.000144                111687             0  \n",
       "3070  5.604770e-09  0.000144                184701             0  \n",
       "3071 -3.998030e-09  0.000144                107698             0  \n",
       "3072  2.833850e-09  0.000144                103660             0  \n",
       "3073 -1.000310e-10  0.000144                213730             0  \n",
       "\n",
       "[3074 rows x 12 columns]"
      ]
     },
     "execution_count": 7,
     "metadata": {},
     "output_type": "execute_result"
    }
   ],
   "source": [
    "res = \"/home/xutingfeng/GIFT/data/analysis/DNAJC16/polyfun/output/DNAJC16.gz\"\n",
    "\n",
    "\n",
    "df = pd.read_csv(res, sep=\"\\t\")\n",
    "df"
   ]
  },
  {
   "cell_type": "code",
   "execution_count": 9,
   "metadata": {},
   "outputs": [
    {
     "data": {
      "text/plain": [
       "<Axes: xlabel='BP', ylabel='PIP'>"
      ]
     },
     "execution_count": 9,
     "metadata": {},
     "output_type": "execute_result"
    },
    {
     "data": {
      "image/png": "[encoded data removed]",
      "text/plain": [
       "<Figure size 432x288 with 1 Axes>"
      ]
     },
     "metadata": {
      "needs_background": "light"
     },
     "output_type": "display_data"
    }
   ],
   "source": [
    "import seaborn as sns\n",
    "\n",
    "sns.scatterplot(data=df, x=\"BP\", y=\"PIP\", hue=\"CREDIBLE_SET\")"
   ]
  },
  {
   "cell_type": "code",
   "execution_count": 12,
   "metadata": {},
   "outputs": [
    {
     "data": {
      "image/png": "[encoded data removed]",
      "text/plain": [
       "<Figure size 432x288 with 1 Axes>"
      ]
     },
     "execution_count": 12,
     "metadata": {},
     "output_type": "execute_result"
    },
    {
     "data": {
      "image/png": "[encoded data removed]",
      "text/plain": [
       "<Figure size 432x288 with 1 Axes>"
      ]
     },
     "metadata": {
      "needs_background": "light"
     },
     "output_type": "display_data"
    }
   ],
   "source": [
    "from statsmodels.graphics.gofplots import qqplot\n",
    "\n",
    "qqplot(df[\"Z\"], line=\"s\")"
   ]
  },
  {
   "cell_type": "code",
   "execution_count": null,
   "metadata": {},
   "outputs": [],
   "source": []
  }
 ],
 "metadata": {
  "kernelspec": {
   "display_name": "base",
   "language": "python",
   "name": "python3"
  },
  "language_info": {
   "codemirror_mode": {
    "name": "ipython",
    "version": 3
   },
   "file_extension": ".py",
   "mimetype": "text/x-python",
   "name": "python",
   "nbconvert_exporter": "python",
   "pygments_lexer": "ipython3",
   "version": "3.10.13"
  }
 },
 "nbformat": 4,
 "nbformat_minor": 2
}
