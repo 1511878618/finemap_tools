{
 "cells": [
  {
   "cell_type": "markdown",
   "id": "19fc5430",
   "metadata": {},
   "source": [
    "如果有很多GWAS需要批量处理\n",
    "`DataBase`\n",
    "    `Data/`\n",
    "        - `folderName`: GWAS unique name\n",
    "            - raw data \n",
    "            - config.json: 1) whether to run GRCh37 to GRCh38?; 2) add varaint_id col or not; 3) fmt and other mapping ({\"rsid\":\"rs_id\"})\n",
    "            - meta.json: meta information of this gwas, key and values will set as columns in the sumstats_mapping.csv\n",
    "            - *.gwaslab.parquet:  processed into gwaslab format with parquet file type\n",
    "\n",
    "    - `sumstats_mapping.csv:` Records folderName and the corresponding  information\n",
    "        - Trait\n",
    "        - Trait Catalog\n",
    "        - Description\n",
    "        - paper\n",
    "        - download url\n",
    "        - genome build\n",
    "        - N \n",
    "        - ancestry\n",
    "        - etc \n",
    "    - `process.py`: 1) check all sumstats file have .gwaslab.parquet and config.json; 2) follow config.json to process data [This should be done by the user, even all sumstats from same big project, plz check all or generate this folder structure by code];3) if .gwaslab.parquet is ok then pass; 4) multi threads to do this; 5) generate the sumstats_mapping.csv\n",
    "    - `check_status.ipynb`: To viz the status of the GWAS storage, show catagory and other properities.\n",
    "    - `Analysis_xxx.ipynb`\n",
    "    - `MR/`"
   ]
  },
  {
   "cell_type": "markdown",
   "id": "2aeb3472",
   "metadata": {},
   "source": []
  }
 ],
 "metadata": {
  "language_info": {
   "name": "python"
  }
 },
 "nbformat": 4,
 "nbformat_minor": 5
}
