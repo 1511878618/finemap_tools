{
 "cells": [
  {
   "cell_type": "markdown",
   "id": "19fc5430",
   "metadata": {},
   "source": [
    "如果有很多GWAS需要批量处理\n",
    "\n",
    "- folderName: GWAS unique name\n",
    "    - raw data \n",
    "    - config.json: 1) whether to run GRCh37 to GRCh38?; 2) add varaint_id col or not; 3) fmt and other mapping ({\"rsid\":\"rs_id\"})\n",
    "    - *.gwaslab.parquet:  processed into gwaslab format with parquet file type\n",
    "\n",
    "- `sumstats_mapping.csv:` Records folderName and the corresponding  information\n",
    "    - Trait\n",
    "    - Trait Catalog\n",
    "    - Description\n",
    "    - paper\n",
    "    - download url\n",
    "    - genome build\n",
    "    - N \n",
    "    - ancestry\n",
    "    - etc \n",
    "- `check_status.ipynb`: To viz the status of the GWAS storage\n",
    "- "
   ]
  }
 ],
 "metadata": {
  "language_info": {
   "name": "python"
  }
 },
 "nbformat": 4,
 "nbformat_minor": 5
}
